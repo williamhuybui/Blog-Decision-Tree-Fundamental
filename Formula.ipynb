{
 "cells": [
  {
   "cell_type": "code",
   "execution_count": 115,
   "metadata": {},
   "outputs": [],
   "source": [
    "import pandas as pd"
   ]
  },
  {
   "cell_type": "code",
   "execution_count": 194,
   "metadata": {
    "scrolled": true
   },
   "outputs": [
    {
     "data": {
      "text/html": [
       "<div>\n",
       "<style scoped>\n",
       "    .dataframe tbody tr th:only-of-type {\n",
       "        vertical-align: middle;\n",
       "    }\n",
       "\n",
       "    .dataframe tbody tr th {\n",
       "        vertical-align: top;\n",
       "    }\n",
       "\n",
       "    .dataframe thead th {\n",
       "        text-align: right;\n",
       "    }\n",
       "</style>\n",
       "<table border=\"1\" class=\"dataframe\">\n",
       "  <thead>\n",
       "    <tr style=\"text-align: right;\">\n",
       "      <th></th>\n",
       "      <th>Classification</th>\n",
       "      <th>hour of practice</th>\n",
       "      <th>Pass the quiz</th>\n",
       "    </tr>\n",
       "  </thead>\n",
       "  <tbody>\n",
       "    <tr>\n",
       "      <th>0</th>\n",
       "      <td>Freshman</td>\n",
       "      <td>&gt;2h</td>\n",
       "      <td>1</td>\n",
       "    </tr>\n",
       "    <tr>\n",
       "      <th>1</th>\n",
       "      <td>Freshman</td>\n",
       "      <td>&gt;2h</td>\n",
       "      <td>1</td>\n",
       "    </tr>\n",
       "    <tr>\n",
       "      <th>2</th>\n",
       "      <td>Sophomore</td>\n",
       "      <td>&gt;2h</td>\n",
       "      <td>1</td>\n",
       "    </tr>\n",
       "    <tr>\n",
       "      <th>3</th>\n",
       "      <td>Junior</td>\n",
       "      <td>&lt;2h</td>\n",
       "      <td>1</td>\n",
       "    </tr>\n",
       "    <tr>\n",
       "      <th>4</th>\n",
       "      <td>Freshman</td>\n",
       "      <td>&gt;2h</td>\n",
       "      <td>0</td>\n",
       "    </tr>\n",
       "    <tr>\n",
       "      <th>5</th>\n",
       "      <td>Sophomore</td>\n",
       "      <td>&lt;2h</td>\n",
       "      <td>0</td>\n",
       "    </tr>\n",
       "  </tbody>\n",
       "</table>\n",
       "</div>"
      ],
      "text/plain": [
       "  Classification hour of practice  Pass the quiz\n",
       "0       Freshman              >2h              1\n",
       "1       Freshman              >2h              1\n",
       "2      Sophomore              >2h              1\n",
       "3         Junior              <2h              1\n",
       "4       Freshman              >2h              0\n",
       "5      Sophomore              <2h              0"
      ]
     },
     "execution_count": 194,
     "metadata": {},
     "output_type": "execute_result"
    }
   ],
   "source": [
    "classification=['Freshman','Freshman','Sophomore','Junior','Freshman','Sophomore']\n",
    "hour_of_practice=['>2h','>2h','>2h','<2h','>2h','<2h']\n",
    "pass_the_quiz=[1,1,1,1,0,0]\n",
    "df=pd.DataFrame({'Classification':classification, \n",
    "                'hour of practice':hour_of_practice, \n",
    "                \"Pass the quiz\":pass_the_quiz })\n",
    "df"
   ]
  },
  {
   "cell_type": "markdown",
   "metadata": {},
   "source": [
    "## Gini Imputiry\n",
    "\n",
    "$$\\text{Gini($K$)}=\\sum^N_{i=1}P_{i,K}(1-P_{i,K})=1-\\sum^N_{i=1}P_{i,K}^2$$\n",
    "* $N$ is the number of classes\n",
    "* $K$ is the category\n",
    "* $P_{i,K}$ is the probability of category $K$ having class $i$ "
   ]
  },
  {
   "cell_type": "code",
   "execution_count": 195,
   "metadata": {},
   "outputs": [],
   "source": [
    "# Input Format(df,feature,category,target name,#List of all classes)\n",
    "# where df is the current node observation\n",
    "\n",
    "def gini(df,feature,category,target,classes_list):\n",
    "    df=df[df[feature]==category]\n",
    "    def P_i_K(i):\n",
    "        return len(df[df[target]==i])/len(df)\n",
    "        \n",
    "    result=1-sum([(P_i_K(i))**2 for i in classes_list])\n",
    "    return result\n",
    "    "
   ]
  },
  {
   "cell_type": "code",
   "execution_count": 196,
   "metadata": {},
   "outputs": [
    {
     "name": "stdout",
     "output_type": "stream",
     "text": [
      "Freshman Giniti: 0.4444444444444444\n",
      "Sophomore Giniti: 0.5\n",
      "Junior Giniti: 0.0\n"
     ]
    }
   ],
   "source": [
    "for category in df['Classification'].unique():\n",
    "    print(category+\" Giniti:\",\n",
    "          gini(df,'Classification',category,'Pass the quiz',[1,0]))"
   ]
  },
  {
   "cell_type": "markdown",
   "metadata": {},
   "source": [
    "## Gini index\n",
    "\n",
    "$$I_{\\text{Ginity}}(a)=\\sum^M_{k=1}P_{k,a}\\cdot\\text{Ginity($k$)}$$\n",
    "* $a$ is the feature\n",
    "* $M$ is the number of category in feature $a$ \n",
    "* $P_{k,a}$is the fraction of category $k$ in feature $a$"
   ]
  },
  {
   "cell_type": "code",
   "execution_count": 197,
   "metadata": {},
   "outputs": [],
   "source": [
    "#\n",
    "def Gini_index(df,feature,target,classes_list):\n",
    "    def P_k_a(category):\n",
    "        return len(df[df[feature]==category])/len(df)\n",
    "    \n",
    "    result=0\n",
    "    for category in df[feature].unique():\n",
    "        gini_value=gini(df,feature,category,target,classes_list) \n",
    "        P_k_a_value=P_k_a(category)\n",
    "        print(category,gini_value,P_k_a_value)\n",
    "        result+=gini_value*P_k_a_value\n",
    "\n",
    "    return result"
   ]
  },
  {
   "cell_type": "code",
   "execution_count": 198,
   "metadata": {},
   "outputs": [
    {
     "name": "stdout",
     "output_type": "stream",
     "text": [
      "Freshman 0.4444444444444444 0.5\n",
      "Sophomore 0.5 0.3333333333333333\n",
      "Junior 0.0 0.16666666666666666\n"
     ]
    },
    {
     "data": {
      "text/plain": [
       "0.38888888888888884"
      ]
     },
     "execution_count": 198,
     "metadata": {},
     "output_type": "execute_result"
    }
   ],
   "source": [
    "Gini_index(df,'Classification','Pass the quiz',[1,0])"
   ]
  },
  {
   "cell_type": "code",
   "execution_count": 199,
   "metadata": {},
   "outputs": [
    {
     "name": "stdout",
     "output_type": "stream",
     "text": [
      ">2h 0.375 0.6666666666666666\n",
      "<2h 0.5 0.3333333333333333\n"
     ]
    },
    {
     "data": {
      "text/plain": [
       "0.41666666666666663"
      ]
     },
     "execution_count": 199,
     "metadata": {},
     "output_type": "execute_result"
    }
   ],
   "source": [
    "Gini_index(df,'hour of practice','Pass the quiz',[1,0])"
   ]
  },
  {
   "cell_type": "code",
   "execution_count": 200,
   "metadata": {},
   "outputs": [],
   "source": [
    "## Sklearn"
   ]
  },
  {
   "cell_type": "code",
   "execution_count": 201,
   "metadata": {},
   "outputs": [
    {
     "data": {
      "text/html": [
       "<div>\n",
       "<style scoped>\n",
       "    .dataframe tbody tr th:only-of-type {\n",
       "        vertical-align: middle;\n",
       "    }\n",
       "\n",
       "    .dataframe tbody tr th {\n",
       "        vertical-align: top;\n",
       "    }\n",
       "\n",
       "    .dataframe thead th {\n",
       "        text-align: right;\n",
       "    }\n",
       "</style>\n",
       "<table border=\"1\" class=\"dataframe\">\n",
       "  <thead>\n",
       "    <tr style=\"text-align: right;\">\n",
       "      <th></th>\n",
       "      <th>Classification</th>\n",
       "      <th>hour of practice</th>\n",
       "      <th>Pass the quiz</th>\n",
       "    </tr>\n",
       "  </thead>\n",
       "  <tbody>\n",
       "    <tr>\n",
       "      <th>0</th>\n",
       "      <td>1</td>\n",
       "      <td>1</td>\n",
       "      <td>1</td>\n",
       "    </tr>\n",
       "    <tr>\n",
       "      <th>1</th>\n",
       "      <td>1</td>\n",
       "      <td>1</td>\n",
       "      <td>1</td>\n",
       "    </tr>\n",
       "    <tr>\n",
       "      <th>2</th>\n",
       "      <td>2</td>\n",
       "      <td>1</td>\n",
       "      <td>1</td>\n",
       "    </tr>\n",
       "    <tr>\n",
       "      <th>3</th>\n",
       "      <td>3</td>\n",
       "      <td>0</td>\n",
       "      <td>1</td>\n",
       "    </tr>\n",
       "    <tr>\n",
       "      <th>4</th>\n",
       "      <td>1</td>\n",
       "      <td>1</td>\n",
       "      <td>0</td>\n",
       "    </tr>\n",
       "    <tr>\n",
       "      <th>5</th>\n",
       "      <td>2</td>\n",
       "      <td>0</td>\n",
       "      <td>0</td>\n",
       "    </tr>\n",
       "  </tbody>\n",
       "</table>\n",
       "</div>"
      ],
      "text/plain": [
       "   Classification  hour of practice  Pass the quiz\n",
       "0               1                 1              1\n",
       "1               1                 1              1\n",
       "2               2                 1              1\n",
       "3               3                 0              1\n",
       "4               1                 1              0\n",
       "5               2                 0              0"
      ]
     },
     "execution_count": 201,
     "metadata": {},
     "output_type": "execute_result"
    }
   ],
   "source": [
    "df_new=df.copy()\n",
    "df_new['Classification']=df['Classification'].map({'Freshman':1, \n",
    "                                                   'Sophomore':2 , \n",
    "                                                   'Junior':3})\n",
    "df_new['hour of practice']=df['hour of practice'].map({'>2h':1, '<2h':0})\n",
    "df_new"
   ]
  },
  {
   "cell_type": "code",
   "execution_count": 202,
   "metadata": {},
   "outputs": [],
   "source": [
    "from sklearn import tree\n",
    "\n",
    "X = df_new[['Classification','hour of practice']].values\n",
    "Y = df_new['Pass the quiz'].values\n",
    "clf = tree.DecisionTreeClassifier(min_samples_split=2)\n",
    "clf = clf.fit(X, Y)"
   ]
  },
  {
   "cell_type": "code",
   "execution_count": 204,
   "metadata": {},
   "outputs": [
    {
     "name": "stdout",
     "output_type": "stream",
     "text": [
      "Freshman >2h [0]\n",
      "Sophomore >2h [1]\n",
      "Junior >2h [1]\n"
     ]
    }
   ],
   "source": [
    "#Freshman <2h\n",
    "print(\"Freshman >2h\", clf.predict([[1, 0]]))\n",
    "print(\"Sophomore >2h\", clf.predict([[2, 1]]))\n",
    "print(\"Junior >2h\", clf.predict([[3, 1]]))"
   ]
  },
  {
   "cell_type": "markdown",
   "metadata": {},
   "source": [
    "## Entropy\n",
    "\n",
    "$$H(K)=\\begin{cases}-\\sum^N_{i=1}P_{i,K}\\log_2P_{i,K} \\hspace{6.5mm} P_{i,k}\\neq 0 \\text{ for all }i \\\\ 0  \\hspace{35mm} \\text{otherwise} \\end{cases}$$\n",
    "\n",
    "* N is number of classes\n",
    "* $P_{i,K}$ is the probability of $K$ having class $i$ "
   ]
  },
  {
   "cell_type": "markdown",
   "metadata": {},
   "source": [
    "## Info gain:\n",
    "$$IG(T,a)=H(T)-H(T|a)=H(T)-\\sum^K_{i=1} P_{i,a} \\cdot H(i)$$\n",
    "* $T$ is the sample space\n",
    "* $a$ is the feature\n",
    "* $H(T|a)$ can be understand as weighted sum of all entropy"
   ]
  }
 ],
 "metadata": {
  "kernelspec": {
   "display_name": "Python 3",
   "language": "python",
   "name": "python3"
  },
  "language_info": {
   "codemirror_mode": {
    "name": "ipython",
    "version": 3
   },
   "file_extension": ".py",
   "mimetype": "text/x-python",
   "name": "python",
   "nbconvert_exporter": "python",
   "pygments_lexer": "ipython3",
   "version": "3.7.3"
  }
 },
 "nbformat": 4,
 "nbformat_minor": 2
}
