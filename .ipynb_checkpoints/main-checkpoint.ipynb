{
 "cells": [
  {
   "cell_type": "code",
   "execution_count": 269,
   "metadata": {
    "scrolled": true
   },
   "outputs": [
    {
     "data": {
      "text/html": [
       "<div>\n",
       "<style scoped>\n",
       "    .dataframe tbody tr th:only-of-type {\n",
       "        vertical-align: middle;\n",
       "    }\n",
       "\n",
       "    .dataframe tbody tr th {\n",
       "        vertical-align: top;\n",
       "    }\n",
       "\n",
       "    .dataframe thead th {\n",
       "        text-align: right;\n",
       "    }\n",
       "</style>\n",
       "<table border=\"1\" class=\"dataframe\">\n",
       "  <thead>\n",
       "    <tr style=\"text-align: right;\">\n",
       "      <th></th>\n",
       "      <th>Classification</th>\n",
       "      <th>hour of practice</th>\n",
       "      <th>Pass the quiz</th>\n",
       "    </tr>\n",
       "  </thead>\n",
       "  <tbody>\n",
       "    <tr>\n",
       "      <th>0</th>\n",
       "      <td>Freshman</td>\n",
       "      <td>&gt;2h</td>\n",
       "      <td>Yes</td>\n",
       "    </tr>\n",
       "    <tr>\n",
       "      <th>1</th>\n",
       "      <td>Freshman</td>\n",
       "      <td>&gt;2h</td>\n",
       "      <td>Yes</td>\n",
       "    </tr>\n",
       "    <tr>\n",
       "      <th>2</th>\n",
       "      <td>Sophomore</td>\n",
       "      <td>&gt;2h</td>\n",
       "      <td>Yes</td>\n",
       "    </tr>\n",
       "    <tr>\n",
       "      <th>3</th>\n",
       "      <td>Junior</td>\n",
       "      <td>&lt;2h</td>\n",
       "      <td>Yes</td>\n",
       "    </tr>\n",
       "    <tr>\n",
       "      <th>4</th>\n",
       "      <td>Freshman</td>\n",
       "      <td>&gt;2h</td>\n",
       "      <td>No</td>\n",
       "    </tr>\n",
       "    <tr>\n",
       "      <th>5</th>\n",
       "      <td>Sophomore</td>\n",
       "      <td>&lt;2h</td>\n",
       "      <td>No</td>\n",
       "    </tr>\n",
       "  </tbody>\n",
       "</table>\n",
       "</div>"
      ],
      "text/plain": [
       "  Classification hour of practice Pass the quiz\n",
       "0       Freshman              >2h           Yes\n",
       "1       Freshman              >2h           Yes\n",
       "2      Sophomore              >2h           Yes\n",
       "3         Junior              <2h           Yes\n",
       "4       Freshman              >2h            No\n",
       "5      Sophomore              <2h            No"
      ]
     },
     "execution_count": 269,
     "metadata": {},
     "output_type": "execute_result"
    }
   ],
   "source": [
    "import pandas as pd\n",
    "classification=['Freshman','Freshman','Sophomore','Junior','Freshman','Sophomore']\n",
    "hour_of_practice=['>2h','>2h','>2h','<2h','>2h','<2h']\n",
    "pass_the_quiz=['Yes','Yes','Yes', 'Yes', 'No','No']\n",
    "df=pd.DataFrame({'Classification':classification, \n",
    "                'hour of practice':hour_of_practice, \n",
    "                \"Pass the quiz\":pass_the_quiz })\n",
    "df"
   ]
  },
  {
   "cell_type": "markdown",
   "metadata": {},
   "source": [
    "## Gini Imputiry & Gini Index\n",
    "\n",
    "**Gini Impurity**\n",
    "$$\\text{Gini($K$)}=\\sum_{i\\in N}P_{i,K}(1-P_{i,K})=1-\\sum_{i\\in N}P_{i,K}^2$$\n",
    "* $N$ is the list of classes (In this case $N=\\{\\text{'Yes'},\\text{'No'}\\}$)\n",
    "* $K$ is the category\n",
    "* $P_{i,K}$ is the probability of category $K$ having class $i$ \n",
    "\n",
    "$\\text{Gini}(F)=1-(P_{\\text{No}}^2+P_{\\text{Yes}}^2) =1-((\\frac{1}{3})^2 +(\\frac{2}{3})^2)=\\frac{4}{9}$\n",
    "\n",
    "$\\text{Gini}(S)=1-((\\frac{1}{2})^2 +(\\frac{1}{2})^2)=0.5$\n",
    "\n",
    "$\\text{Gini}(J)=1-(0^2+1^2)=0$\n",
    "\n",
    "**Gini Index**\n",
    "$$I_{\\text{Gini}}(a)=\\sum_{k\\in M}P_{k,a}\\cdot\\text{Gini($k$)}$$\n",
    "* $a$ is the feature\n",
    "* $M$ be the list of all categories in feature $a$ \n",
    "* $P_{k,a}$is the fraction of category $k$ in feature $a$\n",
    "\n",
    "Let's $a$ =\"Classification\"\n",
    "$I_{\\text{Gini}}(a)=P_{ \\text{F},a}\\cdot \\text{Gini}(\\text{F})+P_{\\text{S},a}\\cdot \\text{Gini}(\\text{S})+P_{\\text{ J},a}\\cdot \\text{Gini}(\\text{J})$\n",
    "$I_{\\text{Gini}}(a)=\\frac{1}{2}\\cdot\\frac{4}{9}+\\frac{1}{3}\\cdot 0.5+\\frac{1}{6}\\cdot 0=\\frac{7}{18}$"
   ]
  },
  {
   "cell_type": "code",
   "execution_count": 276,
   "metadata": {},
   "outputs": [
    {
     "name": "stdout",
     "output_type": "stream",
     "text": [
      "Gini Index of Classification 0.38888888888888884\n",
      "Gini Index of hour of practice 0.41666666666666663\n"
     ]
    }
   ],
   "source": [
    "# Input Format(df, feature name, category name ,target name, list of all classes)\n",
    "# where df is the current node observation\n",
    "\n",
    "def gini(df,feature,category,target,classes_list):\n",
    "    df=df[df[feature]==category]\n",
    "    def P_i_K(i):\n",
    "        return len(df[df[target]==i])/len(df)\n",
    "        \n",
    "    result=1-sum([(P_i_K(i))**2 for i in classes_list])\n",
    "    return result\n",
    "\n",
    "# Input Format(df, feature name, target name, list of all classes)\n",
    "def Gini_index(df,feature,target,classes_list):\n",
    "    def P_k_a(category):\n",
    "        return len(df[df[feature]==category])/len(df)\n",
    "    \n",
    "    result=0\n",
    "    for category in df[feature].unique():\n",
    "        gini_value=gini(df,feature,category,target,classes_list) \n",
    "        P_k_a_value=P_k_a(category)\n",
    "        result+=gini_value*P_k_a_value\n",
    "\n",
    "    return result\n",
    "\n",
    "print(\"Gini Index of Classification\",\n",
    "      Gini_index(df,\"Classification\",\"Pass the quiz\",['Yes','No']))\n",
    "print(\"Gini Index of hour of practice\", \n",
    "      Gini_index(df,\"hour of practice\",\"Pass the quiz\",['Yes','No']))"
   ]
  },
  {
   "cell_type": "markdown",
   "metadata": {},
   "source": [
    "# Test"
   ]
  },
  {
   "cell_type": "code",
   "execution_count": 277,
   "metadata": {},
   "outputs": [
    {
     "data": {
      "text/html": [
       "<div>\n",
       "<style scoped>\n",
       "    .dataframe tbody tr th:only-of-type {\n",
       "        vertical-align: middle;\n",
       "    }\n",
       "\n",
       "    .dataframe tbody tr th {\n",
       "        vertical-align: top;\n",
       "    }\n",
       "\n",
       "    .dataframe thead th {\n",
       "        text-align: right;\n",
       "    }\n",
       "</style>\n",
       "<table border=\"1\" class=\"dataframe\">\n",
       "  <thead>\n",
       "    <tr style=\"text-align: right;\">\n",
       "      <th></th>\n",
       "      <th>Classification</th>\n",
       "      <th>hour of practice</th>\n",
       "      <th>Pass the quiz</th>\n",
       "    </tr>\n",
       "  </thead>\n",
       "  <tbody>\n",
       "    <tr>\n",
       "      <th>0</th>\n",
       "      <td>1</td>\n",
       "      <td>1</td>\n",
       "      <td>1</td>\n",
       "    </tr>\n",
       "    <tr>\n",
       "      <th>1</th>\n",
       "      <td>1</td>\n",
       "      <td>1</td>\n",
       "      <td>1</td>\n",
       "    </tr>\n",
       "    <tr>\n",
       "      <th>2</th>\n",
       "      <td>2</td>\n",
       "      <td>1</td>\n",
       "      <td>1</td>\n",
       "    </tr>\n",
       "    <tr>\n",
       "      <th>3</th>\n",
       "      <td>3</td>\n",
       "      <td>0</td>\n",
       "      <td>1</td>\n",
       "    </tr>\n",
       "    <tr>\n",
       "      <th>4</th>\n",
       "      <td>1</td>\n",
       "      <td>1</td>\n",
       "      <td>0</td>\n",
       "    </tr>\n",
       "    <tr>\n",
       "      <th>5</th>\n",
       "      <td>2</td>\n",
       "      <td>0</td>\n",
       "      <td>0</td>\n",
       "    </tr>\n",
       "  </tbody>\n",
       "</table>\n",
       "</div>"
      ],
      "text/plain": [
       "   Classification  hour of practice  Pass the quiz\n",
       "0               1                 1              1\n",
       "1               1                 1              1\n",
       "2               2                 1              1\n",
       "3               3                 0              1\n",
       "4               1                 1              0\n",
       "5               2                 0              0"
      ]
     },
     "execution_count": 277,
     "metadata": {},
     "output_type": "execute_result"
    }
   ],
   "source": [
    "df_new=df.copy()\n",
    "df_new['Classification']=df['Classification'].map({'Freshman':1, \n",
    "                                                   'Sophomore':2 , \n",
    "                                                   'Junior':3})\n",
    "df_new['hour of practice']=df['hour of practice'].map({'>2h':1, '<2h':0})\n",
    "df_new['Pass the quiz']=df['Pass the quiz'].map({'Yes':1, 'No':0})\n",
    "df_new"
   ]
  },
  {
   "cell_type": "code",
   "execution_count": 278,
   "metadata": {},
   "outputs": [],
   "source": [
    "from sklearn import tree\n",
    "\n",
    "X = df_new[['Classification','hour of practice']].values\n",
    "Y = df_new['Pass the quiz'].values\n",
    "clf = tree.DecisionTreeClassifier(min_samples_split=2)\n",
    "clf = clf.fit(X, Y)"
   ]
  },
  {
   "cell_type": "code",
   "execution_count": 279,
   "metadata": {},
   "outputs": [
    {
     "name": "stdout",
     "output_type": "stream",
     "text": [
      "Freshman >2h [0]\n",
      "Sophomore >2h [1]\n",
      "Junior >2h [1]\n"
     ]
    }
   ],
   "source": [
    "#Freshman <2h\n",
    "print(\"Freshman >2h\", clf.predict([[1, 0]]))\n",
    "print(\"Sophomore >2h\", clf.predict([[2, 1]]))\n",
    "print(\"Junior >2h\", clf.predict([[3, 1]]))"
   ]
  },
  {
   "cell_type": "markdown",
   "metadata": {},
   "source": [
    "## Entropy & Infomation gain\n",
    "\n",
    "**Entropy**\n",
    "\n",
    "$$H(E)=\\begin{cases}-\\sum_{i\\in N}P_{i,E}\\log_2P_{i,E} \\hspace{6.5mm} P_{i,E}\\neq 0 \\text{ for all }i \\\\ 0  \\hspace{45mm} \\text{otherwise} \\end{cases}$$\n",
    "\n",
    "* N is the list of all classes\n",
    "\n",
    "* $P_{i,E}$ is the probability of event $E$ having class $i$ \n",
    "\n",
    "$H(F)=-(P_{\\text{Yes,F}}\\cdot \\log_2P_{\\text{Yes,F}}+P_{\\text{No,F}}\\cdot \\log_2P_{\\text{No,F}})=-(\\frac{2}{3}\\log_2\\frac{2}{3}+\\frac{1}{3}\\log_2\\frac{1}{3})=0.9183$\n",
    "$H(S)=-(\\frac{1}{2}\\log_2\\frac{1}{2}+\\frac{1}{2}\\log_2\\frac{1}{2})=1$\n",
    "Since $P_{\\text{No,J}}=0$, \n",
    "$H(J)=0$  \n",
    "\n",
    "**Info gain**\n",
    "$$IG(T,a)=H(T)-H(T|a)=H(T)-\\sum_{i\\in K} P_{i,a} \\cdot H(i)$$\n",
    "* $T$ is the sample space\n",
    "* $a$ is the feature\n",
    "* $H(T|a)$ can be understand as weighted sum of all entropy\n",
    "\n",
    "Let's $a$ =\"Classification\", we have\n",
    "$H(T)=-(P_{\\text{Yes,T}}\\cdot \\log_2P_{\\text{Yes,T}}+P_{\\text{No,T}}\\cdot \\log_2P_{\\text{No,T}})=-(\\frac{1}{3}\\log_2\\frac{1}{3}+\\frac{2}{3}\\log_2\\frac{2}{3})=0.918$\n",
    "\n",
    "$\\sum_{i\\in K} P_{i,a} \\cdot H(i)=P_{F,a}\\cdot H(F)+P_{F,a}\\cdot H(S)++P_{S,a}\\cdot H(J)=\\frac{1}{2}\\cdot 0.918+\\frac{1}{3}\\cdot 1++\\frac{1}{6}\\cdot 0=0.792$"
   ]
  },
  {
   "cell_type": "code",
   "execution_count": 282,
   "metadata": {},
   "outputs": [
    {
     "name": "stdout",
     "output_type": "stream",
     "text": [
      "Information Gain of Classification 0.12581458369391152\n",
      "Information Gain of hour of practice 0.044110417748401076\n"
     ]
    }
   ],
   "source": [
    "# Input Format(df,feature name K,category name,target name,#List of all classes)\n",
    "# Pass feature, category None if want to find the entropy of the whole observation\n",
    "import math\n",
    "def entropy(df,feature,category,target,classes_list):\n",
    "    \n",
    "    if (feature!=None)|(category!=None):\n",
    "        df=df[df[feature]==category]\n",
    "        \n",
    "    def P_i_k(class_):\n",
    "        return len(df[df[target]==class_])/len(df)\n",
    "    \n",
    "    result=0\n",
    "    for class_ in classes_list:\n",
    "        P_i_k_value=P_i_k(class_)\n",
    "        if P_i_k_value!=0:\n",
    "            result+=P_i_k_value*math.log(P_i_k_value,2)\n",
    "    return -1*result\n",
    "\n",
    "\n",
    "# Input Format(df,feature name K,category name,target name,#List of all classes)\n",
    "def InfoGain(df,feature,target,classes_list):\n",
    "    H_T=entropy(df,None,None,target,classes_list)    \n",
    "    def P_i_a(category,feature):\n",
    "        return len(df[df[feature]==category])/len(df)\n",
    "    \n",
    "    result=0\n",
    "    \n",
    "    for category in df[feature].unique():\n",
    "        result+=P_i_a(category, feature)*entropy(df,feature,category,target,classes_list)\n",
    "    result=H_T-result\n",
    "    return result\n",
    "\n",
    "print(\"Information Gain of Classification\", \n",
    "      InfoGain(df,'Classification','Pass the quiz',['Yes','No']))\n",
    "print(\"Information Gain of hour of practice\", \n",
    "      InfoGain(df,'hour of practice','Pass the quiz',['Yes','No']))"
   ]
  },
  {
   "cell_type": "code",
   "execution_count": 281,
   "metadata": {},
   "outputs": [],
   "source": [
    "# for category in df['Classification'].unique():\n",
    "#     print(category+\" Entropy:\",\n",
    "#           entropy(df,'Classification',category,'Pass the quiz',['Yes','No']))"
   ]
  }
 ],
 "metadata": {
  "kernelspec": {
   "display_name": "Python 3",
   "language": "python",
   "name": "python3"
  },
  "language_info": {
   "codemirror_mode": {
    "name": "ipython",
    "version": 3
   },
   "file_extension": ".py",
   "mimetype": "text/x-python",
   "name": "python",
   "nbconvert_exporter": "python",
   "pygments_lexer": "ipython3",
   "version": "3.7.3"
  }
 },
 "nbformat": 4,
 "nbformat_minor": 2
}
